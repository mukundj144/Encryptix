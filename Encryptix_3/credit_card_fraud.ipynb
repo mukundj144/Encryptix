{
 "cells": [
  {
   "cell_type": "code",
   "execution_count": null,
   "id": "48e4198c-e6c8-4fd1-aea6-f65320c6e3c5",
   "metadata": {},
   "outputs": [],
   "source": [
    "import pandas as pd\n",
    "import numpy as np\n",
    "from sklearn.model_selection import train_test_split\n",
    "from sklearn.ensemble import RandomForestClassifier\n",
    "from sklearn.preprocessing import StandardScaler\n",
    "from sklearn.metrics import precision_recall_curve, auc, classification_report, precision_score, recall_score, f1_score\n",
    "from imblearn.over_sampling import SMOTE\n",
    "import matplotlib.pyplot as plt\n",
    "import seaborn as sns"
   ]
  },
  {
   "cell_type": "code",
   "execution_count": null,
   "id": "3622dfd9-d542-4c0f-b009-76b84a9b3275",
   "metadata": {},
   "outputs": [],
   "source": [
    "credit=pd.read_csv(r'creditcard.csv')"
   ]
  },
  {
   "cell_type": "code",
   "execution_count": null,
   "id": "7873e8c8-7b50-47f0-8941-19b8b460c873",
   "metadata": {},
   "outputs": [],
   "source": [
    "credit.head(7)"
   ]
  },
  {
   "cell_type": "code",
   "execution_count": null,
   "id": "28cc0711-77bb-4382-b399-48269e86b6a9",
   "metadata": {},
   "outputs": [],
   "source": [
    "credit.info()"
   ]
  },
  {
   "cell_type": "code",
   "execution_count": null,
   "id": "ab3ce164-28f9-4c2c-a180-e98d45cba0d9",
   "metadata": {},
   "outputs": [],
   "source": [
    "credit.describe()"
   ]
  },
  {
   "cell_type": "code",
   "execution_count": null,
   "id": "d06ef619-212b-4088-9711-77fa74c40c5d",
   "metadata": {},
   "outputs": [],
   "source": [
    "credit['Class'].value_counts()"
   ]
  },
  {
   "cell_type": "code",
   "execution_count": null,
   "id": "201dc4b0",
   "metadata": {},
   "outputs": [],
   "source": [
    "# here log scale is used as the dataset is highly imbalanced\n",
    "plt.figure(figsize=(7, 5))\n",
    "sns.countplot(x='Class', data=credit)\n",
    "plt.yscale('log')\n",
    "plt.title('Class Distribution (Logarithmic Scale)')\n",
    "plt.xlabel('Class')\n",
    "plt.ylabel('Count (log scale)')\n",
    "plt.show()"
   ]
  },
  {
   "cell_type": "code",
   "execution_count": null,
   "id": "99699ce6-0b22-4a0f-bc7e-aff37faf646f",
   "metadata": {},
   "outputs": [],
   "source": [
    "# Normalize the 'Amount' and 'Time' features\n",
    "scaler = StandardScaler()\n",
    "credit['Amount'] = scaler.fit_transform(credit[['Amount']])\n",
    "credit['Time'] = scaler.fit_transform(credit[['Time']])"
   ]
  },
  {
   "cell_type": "code",
   "execution_count": null,
   "id": "c393283e-e577-4892-8040-2db0b1115844",
   "metadata": {},
   "outputs": [],
   "source": [
    "# Define features and target variable\n",
    "X = credit.drop(columns=['Class'])\n",
    "y = credit['Class']"
   ]
  },
  {
   "cell_type": "code",
   "execution_count": null,
   "id": "5cff7e67-6f6c-4920-b4d0-d14a2c422a4e",
   "metadata": {},
   "outputs": [],
   "source": [
    "# Split the data into training and testing sets\n",
    "X_train, X_test, y_train, y_test = train_test_split(X, y, test_size=0.2, random_state=42, stratify=y)"
   ]
  },
  {
   "cell_type": "code",
   "execution_count": null,
   "id": "ccf0278e-a6e7-41fe-acfc-63409d3f530c",
   "metadata": {},
   "outputs": [],
   "source": [
    "# Handle class imbalance using SMOTE (Synthetic Minority Over-sampling Technique)\n",
    "smote = SMOTE(random_state=42)\n",
    "X_train_resampled, y_train_resampled = smote.fit_resample(X_train, y_train)"
   ]
  },
  {
   "cell_type": "code",
   "execution_count": null,
   "id": "ada42c1d-7e2f-42e2-957d-4844a64b07e9",
   "metadata": {},
   "outputs": [],
   "source": [
    "# Initialize the Random Forest classifier\n",
    "rf_clf = RandomForestClassifier(n_estimators=100, random_state=42, n_jobs=-1)"
   ]
  },
  {
   "cell_type": "code",
   "execution_count": null,
   "id": "60e3110d-e0ff-4511-ac2b-158e63d885d9",
   "metadata": {},
   "outputs": [],
   "source": [
    "import time\n",
    "start_time = time.time()\n",
    "rf_clf.fit(X_train_resampled, y_train_resampled)\n",
    "end_time = time.time()\n",
    "\n",
    "training_time = end_time - start_time\n",
    "\n",
    "print(f\"Time taken to train the Random Forest model: {training_time:.2f} seconds\")"
   ]
  },
  {
   "cell_type": "code",
   "execution_count": null,
   "id": "c6b01603-8b56-4ff9-8182-346677d46590",
   "metadata": {},
   "outputs": [],
   "source": [
    "# Predict probabilities for the test set\n",
    "y_probs = rf_clf.predict_proba(X_test)[:, 1]"
   ]
  },
  {
   "cell_type": "code",
   "execution_count": null,
   "id": "fb51c29a-4d45-4f15-8917-bba03b02b902",
   "metadata": {},
   "outputs": [],
   "source": [
    "# Predict classes for the test set\n",
    "y_pred = rf_clf.predict(X_test)"
   ]
  },
  {
   "cell_type": "code",
   "execution_count": null,
   "id": "0c87547a-1150-427e-9f4e-28e7c572eee1",
   "metadata": {},
   "outputs": [],
   "source": [
    "# Calculate precision, recall, and F1-score\n",
    "precision = precision_score(y_test, y_pred)\n",
    "recall = recall_score(y_test, y_pred)\n",
    "f1 = f1_score(y_test, y_pred)"
   ]
  },
  {
   "cell_type": "code",
   "execution_count": null,
   "id": "56d3a07e-f801-445d-93e3-e29671805dad",
   "metadata": {},
   "outputs": [],
   "source": [
    "# Print precision, recall, and F1-score\n",
    "print(f'Precision: {precision:.4f}')\n",
    "print(f'Recall: {recall:.4f}')\n",
    "print(f'F1-Score: {f1:.4f}')"
   ]
  },
  {
   "cell_type": "code",
   "execution_count": null,
   "id": "6ae259f7-a245-4cee-9452-aeeba266f511",
   "metadata": {},
   "outputs": [],
   "source": [
    "# Calculate precision and recall values for the Precision-Recall curve\n",
    "precision_curve, recall_curve, _ = precision_recall_curve(y_test, y_probs)"
   ]
  },
  {
   "cell_type": "code",
   "execution_count": null,
   "id": "db22bdfc-3417-48de-83da-cd2e2ab3aeb8",
   "metadata": {},
   "outputs": [],
   "source": [
    "# Calculate the Area Under the Precision-Recall Curve (AUPRC)\n",
    "auprc = auc(recall_curve, precision_curve)\n",
    "\n",
    "# Print the AUPRC\n",
    "print(f'Area Under the Precision-Recall Curve (AUPRC): {auprc:.4f}')"
   ]
  },
  {
   "cell_type": "code",
   "execution_count": null,
   "id": "22bb1607-9f2d-4501-9760-f7ee9b83a174",
   "metadata": {},
   "outputs": [],
   "source": [
    "# Plot the Precision-Recall curve\n",
    "plt.figure()\n",
    "plt.plot(recall_curve, precision_curve, label=f'Random Forest (AUPRC = {auprc:.4f})')\n",
    "plt.xlabel('Recall')\n",
    "plt.ylabel('Precision')\n",
    "plt.title('Precision-Recall Curve')\n",
    "plt.legend(loc='best')\n",
    "plt.show()"
   ]
  },
  {
   "cell_type": "code",
   "execution_count": null,
   "id": "9bc8e749-7d84-4455-8d2b-66598ccf5f7d",
   "metadata": {},
   "outputs": [],
   "source": [
    "# Print classification report\n",
    "print(classification_report(y_test, y_pred, target_names=['Non-Fraud', 'Fraud']))"
   ]
  }
 ],
 "metadata": {
  "kernelspec": {
   "display_name": "Python 3 (ipykernel)",
   "language": "python",
   "name": "python3"
  },
  "language_info": {
   "codemirror_mode": {
    "name": "ipython",
    "version": 3
   },
   "file_extension": ".py",
   "mimetype": "text/x-python",
   "name": "python",
   "nbconvert_exporter": "python",
   "pygments_lexer": "ipython3",
   "version": "3.11.0"
  }
 },
 "nbformat": 4,
 "nbformat_minor": 5
}
